{
  "nbformat": 4,
  "nbformat_minor": 0,
  "metadata": {
    "colab": {
      "provenance": []
    },
    "kernelspec": {
      "name": "python3",
      "display_name": "Python 3"
    },
    "language_info": {
      "name": "python"
    }
  },
  "cells": [
    {
      "cell_type": "markdown",
      "source": [
        "## Installations"
      ],
      "metadata": {
        "id": "fdAEQmCFf7jY"
      }
    },
    {
      "cell_type": "code",
      "execution_count": null,
      "metadata": {
        "id": "nNERURdbf4aT"
      },
      "outputs": [],
      "source": [
        "!pip install kagglehub --quiet"
      ]
    },
    {
      "cell_type": "code",
      "source": [
        "!pip install kagglehub[pandas-datasets] --quiet"
      ],
      "metadata": {
        "id": "DBUrx-2ziE9b"
      },
      "execution_count": null,
      "outputs": []
    },
    {
      "cell_type": "code",
      "source": [
        "!pip install pandas --quiet"
      ],
      "metadata": {
        "id": "x8bIHFL2tfqD"
      },
      "execution_count": null,
      "outputs": []
    },
    {
      "cell_type": "code",
      "source": [
        "import pandas as pd"
      ],
      "metadata": {
        "id": "1vfsNqXYthAA"
      },
      "execution_count": null,
      "outputs": []
    },
    {
      "cell_type": "markdown",
      "source": [
        "## Authenticate with Kaggle"
      ],
      "metadata": {
        "id": "7cAyYYF2iQdi"
      }
    },
    {
      "cell_type": "code",
      "source": [
        "import os\n",
        "from google.colab import files\n",
        "files.upload()  # Upload kaggle.json manually\n",
        "\n",
        "os.makedirs(os.path.expanduser('~/.kaggle'), exist_ok=True)\n",
        "!cp kaggle.json ~/.kaggle/\n",
        "!chmod 600 ~/.kaggle/kaggle.json"
      ],
      "metadata": {
        "colab": {
          "base_uri": "https://localhost:8080/",
          "height": 73
        },
        "id": "7StjN-zHiM3K",
        "outputId": "23476d7f-e61e-4c09-9e89-eacff587b6fa"
      },
      "execution_count": null,
      "outputs": [
        {
          "output_type": "display_data",
          "data": {
            "text/plain": [
              "<IPython.core.display.HTML object>"
            ],
            "text/html": [
              "\n",
              "     <input type=\"file\" id=\"files-8e1d118d-a2e1-46c6-891b-ddbefcfd892e\" name=\"files[]\" multiple disabled\n",
              "        style=\"border:none\" />\n",
              "     <output id=\"result-8e1d118d-a2e1-46c6-891b-ddbefcfd892e\">\n",
              "      Upload widget is only available when the cell has been executed in the\n",
              "      current browser session. Please rerun this cell to enable.\n",
              "      </output>\n",
              "      <script>// Copyright 2017 Google LLC\n",
              "//\n",
              "// Licensed under the Apache License, Version 2.0 (the \"License\");\n",
              "// you may not use this file except in compliance with the License.\n",
              "// You may obtain a copy of the License at\n",
              "//\n",
              "//      http://www.apache.org/licenses/LICENSE-2.0\n",
              "//\n",
              "// Unless required by applicable law or agreed to in writing, software\n",
              "// distributed under the License is distributed on an \"AS IS\" BASIS,\n",
              "// WITHOUT WARRANTIES OR CONDITIONS OF ANY KIND, either express or implied.\n",
              "// See the License for the specific language governing permissions and\n",
              "// limitations under the License.\n",
              "\n",
              "/**\n",
              " * @fileoverview Helpers for google.colab Python module.\n",
              " */\n",
              "(function(scope) {\n",
              "function span(text, styleAttributes = {}) {\n",
              "  const element = document.createElement('span');\n",
              "  element.textContent = text;\n",
              "  for (const key of Object.keys(styleAttributes)) {\n",
              "    element.style[key] = styleAttributes[key];\n",
              "  }\n",
              "  return element;\n",
              "}\n",
              "\n",
              "// Max number of bytes which will be uploaded at a time.\n",
              "const MAX_PAYLOAD_SIZE = 100 * 1024;\n",
              "\n",
              "function _uploadFiles(inputId, outputId) {\n",
              "  const steps = uploadFilesStep(inputId, outputId);\n",
              "  const outputElement = document.getElementById(outputId);\n",
              "  // Cache steps on the outputElement to make it available for the next call\n",
              "  // to uploadFilesContinue from Python.\n",
              "  outputElement.steps = steps;\n",
              "\n",
              "  return _uploadFilesContinue(outputId);\n",
              "}\n",
              "\n",
              "// This is roughly an async generator (not supported in the browser yet),\n",
              "// where there are multiple asynchronous steps and the Python side is going\n",
              "// to poll for completion of each step.\n",
              "// This uses a Promise to block the python side on completion of each step,\n",
              "// then passes the result of the previous step as the input to the next step.\n",
              "function _uploadFilesContinue(outputId) {\n",
              "  const outputElement = document.getElementById(outputId);\n",
              "  const steps = outputElement.steps;\n",
              "\n",
              "  const next = steps.next(outputElement.lastPromiseValue);\n",
              "  return Promise.resolve(next.value.promise).then((value) => {\n",
              "    // Cache the last promise value to make it available to the next\n",
              "    // step of the generator.\n",
              "    outputElement.lastPromiseValue = value;\n",
              "    return next.value.response;\n",
              "  });\n",
              "}\n",
              "\n",
              "/**\n",
              " * Generator function which is called between each async step of the upload\n",
              " * process.\n",
              " * @param {string} inputId Element ID of the input file picker element.\n",
              " * @param {string} outputId Element ID of the output display.\n",
              " * @return {!Iterable<!Object>} Iterable of next steps.\n",
              " */\n",
              "function* uploadFilesStep(inputId, outputId) {\n",
              "  const inputElement = document.getElementById(inputId);\n",
              "  inputElement.disabled = false;\n",
              "\n",
              "  const outputElement = document.getElementById(outputId);\n",
              "  outputElement.innerHTML = '';\n",
              "\n",
              "  const pickedPromise = new Promise((resolve) => {\n",
              "    inputElement.addEventListener('change', (e) => {\n",
              "      resolve(e.target.files);\n",
              "    });\n",
              "  });\n",
              "\n",
              "  const cancel = document.createElement('button');\n",
              "  inputElement.parentElement.appendChild(cancel);\n",
              "  cancel.textContent = 'Cancel upload';\n",
              "  const cancelPromise = new Promise((resolve) => {\n",
              "    cancel.onclick = () => {\n",
              "      resolve(null);\n",
              "    };\n",
              "  });\n",
              "\n",
              "  // Wait for the user to pick the files.\n",
              "  const files = yield {\n",
              "    promise: Promise.race([pickedPromise, cancelPromise]),\n",
              "    response: {\n",
              "      action: 'starting',\n",
              "    }\n",
              "  };\n",
              "\n",
              "  cancel.remove();\n",
              "\n",
              "  // Disable the input element since further picks are not allowed.\n",
              "  inputElement.disabled = true;\n",
              "\n",
              "  if (!files) {\n",
              "    return {\n",
              "      response: {\n",
              "        action: 'complete',\n",
              "      }\n",
              "    };\n",
              "  }\n",
              "\n",
              "  for (const file of files) {\n",
              "    const li = document.createElement('li');\n",
              "    li.append(span(file.name, {fontWeight: 'bold'}));\n",
              "    li.append(span(\n",
              "        `(${file.type || 'n/a'}) - ${file.size} bytes, ` +\n",
              "        `last modified: ${\n",
              "            file.lastModifiedDate ? file.lastModifiedDate.toLocaleDateString() :\n",
              "                                    'n/a'} - `));\n",
              "    const percent = span('0% done');\n",
              "    li.appendChild(percent);\n",
              "\n",
              "    outputElement.appendChild(li);\n",
              "\n",
              "    const fileDataPromise = new Promise((resolve) => {\n",
              "      const reader = new FileReader();\n",
              "      reader.onload = (e) => {\n",
              "        resolve(e.target.result);\n",
              "      };\n",
              "      reader.readAsArrayBuffer(file);\n",
              "    });\n",
              "    // Wait for the data to be ready.\n",
              "    let fileData = yield {\n",
              "      promise: fileDataPromise,\n",
              "      response: {\n",
              "        action: 'continue',\n",
              "      }\n",
              "    };\n",
              "\n",
              "    // Use a chunked sending to avoid message size limits. See b/62115660.\n",
              "    let position = 0;\n",
              "    do {\n",
              "      const length = Math.min(fileData.byteLength - position, MAX_PAYLOAD_SIZE);\n",
              "      const chunk = new Uint8Array(fileData, position, length);\n",
              "      position += length;\n",
              "\n",
              "      const base64 = btoa(String.fromCharCode.apply(null, chunk));\n",
              "      yield {\n",
              "        response: {\n",
              "          action: 'append',\n",
              "          file: file.name,\n",
              "          data: base64,\n",
              "        },\n",
              "      };\n",
              "\n",
              "      let percentDone = fileData.byteLength === 0 ?\n",
              "          100 :\n",
              "          Math.round((position / fileData.byteLength) * 100);\n",
              "      percent.textContent = `${percentDone}% done`;\n",
              "\n",
              "    } while (position < fileData.byteLength);\n",
              "  }\n",
              "\n",
              "  // All done.\n",
              "  yield {\n",
              "    response: {\n",
              "      action: 'complete',\n",
              "    }\n",
              "  };\n",
              "}\n",
              "\n",
              "scope.google = scope.google || {};\n",
              "scope.google.colab = scope.google.colab || {};\n",
              "scope.google.colab._files = {\n",
              "  _uploadFiles,\n",
              "  _uploadFilesContinue,\n",
              "};\n",
              "})(self);\n",
              "</script> "
            ]
          },
          "metadata": {}
        },
        {
          "output_type": "stream",
          "name": "stdout",
          "text": [
            "Saving kaggle.json to kaggle.json\n"
          ]
        }
      ]
    },
    {
      "cell_type": "markdown",
      "source": [
        "## Loading the dataset directly as a Pandas DataFrame"
      ],
      "metadata": {
        "id": "g4nSC3K1igcy"
      }
    },
    {
      "cell_type": "code",
      "source": [
        "import kagglehub\n",
        "from kagglehub import KaggleDatasetAdapter\n",
        "\n",
        "df = kagglehub.dataset_load(\n",
        "    KaggleDatasetAdapter.PANDAS,\n",
        "    \"prachi13/customer-analytics\",\n",
        "    \"Train.csv\",\n",
        ")\n",
        "print(df.head())"
      ],
      "metadata": {
        "colab": {
          "base_uri": "https://localhost:8080/"
        },
        "id": "NE5ahmtaiUgb",
        "outputId": "19b9c863-15bf-43d4-c42d-31fdcbd71d43"
      },
      "execution_count": null,
      "outputs": [
        {
          "output_type": "stream",
          "name": "stdout",
          "text": [
            "   ID Warehouse_block Mode_of_Shipment  Customer_care_calls  Customer_rating  \\\n",
            "0   1               D           Flight                    4                2   \n",
            "1   2               F           Flight                    4                5   \n",
            "2   3               A           Flight                    2                2   \n",
            "3   4               B           Flight                    3                3   \n",
            "4   5               C           Flight                    2                2   \n",
            "\n",
            "   Cost_of_the_Product  Prior_purchases Product_importance Gender  \\\n",
            "0                  177                3                low      F   \n",
            "1                  216                2                low      M   \n",
            "2                  183                4                low      M   \n",
            "3                  176                4             medium      M   \n",
            "4                  184                3             medium      F   \n",
            "\n",
            "   Discount_offered  Weight_in_gms  Reached.on.Time_Y.N  \n",
            "0                44           1233                    1  \n",
            "1                59           3088                    1  \n",
            "2                48           3374                    1  \n",
            "3                10           1177                    1  \n",
            "4                46           2484                    1  \n"
          ]
        }
      ]
    },
    {
      "cell_type": "markdown",
      "source": [
        "## Question 1: Which mode of shipment is the most reliable in terms of on-time delivery?"
      ],
      "metadata": {
        "id": "vRfItxKQjnpP"
      }
    },
    {
      "cell_type": "markdown",
      "source": [
        "What is the distribution  of shipment modes used?"
      ],
      "metadata": {
        "id": "-vx8f-HTkXBq"
      }
    },
    {
      "cell_type": "code",
      "source": [
        "on_time_rates = df.groupby('Mode_of_Shipment')['Reached.on.Time_Y.N'].mean().sort_values(ascending=False)\n",
        "print(on_time_rates)"
      ],
      "metadata": {
        "colab": {
          "base_uri": "https://localhost:8080/"
        },
        "id": "vyOl03eyiqnc",
        "outputId": "a3bdefa6-3558-4c90-8a7c-b78704120be2"
      },
      "execution_count": null,
      "outputs": [
        {
          "output_type": "stream",
          "name": "stdout",
          "text": [
            "Mode_of_Shipment\n",
            "Flight    0.601576\n",
            "Ship      0.597561\n",
            "Road      0.588068\n",
            "Name: Reached.on.Time_Y.N, dtype: float64\n"
          ]
        }
      ]
    },
    {
      "cell_type": "code",
      "source": [
        "print(\"Flight is the most reliable mode of on-time delivery\")"
      ],
      "metadata": {
        "colab": {
          "base_uri": "https://localhost:8080/"
        },
        "id": "-C6SptFxmh0l",
        "outputId": "0857549c-c108-4622-9655-d23e20d88e72"
      },
      "execution_count": null,
      "outputs": [
        {
          "output_type": "stream",
          "name": "stdout",
          "text": [
            "Flight is the most reliable mode of on-time delivery\n"
          ]
        }
      ]
    },
    {
      "cell_type": "markdown",
      "source": [
        "It groups data by `Mode_of_Shipment` and calculate the on-time delivery percentage for each. It outputs sorted list showing which mode has the highest success rate."
      ],
      "metadata": {
        "id": "7e162g6MmJdO"
      }
    },
    {
      "cell_type": "markdown",
      "source": [
        "## Question 2: Does the stated importance of a product influence its likelihood of arriving on time?"
      ],
      "metadata": {
        "id": "Q5NGgnS8m8yu"
      }
    },
    {
      "cell_type": "code",
      "source": [
        "importance_impact = df.groupby('Product_importance')['Reached.on.Time_Y.N'].mean().sort_values(ascending=False)\n",
        "print(importance_impact)"
      ],
      "metadata": {
        "id": "LEFnQwPBkfjE",
        "colab": {
          "base_uri": "https://localhost:8080/"
        },
        "outputId": "7e829f50-d235-4db4-9767-70b3ec8fbfe0"
      },
      "execution_count": null,
      "outputs": [
        {
          "output_type": "stream",
          "name": "stdout",
          "text": [
            "Product_importance\n",
            "high      0.649789\n",
            "low       0.592788\n",
            "medium    0.590450\n",
            "Name: Reached.on.Time_Y.N, dtype: float64\n"
          ]
        }
      ]
    },
    {
      "cell_type": "markdown",
      "source": [
        "It aggregates data by `Product_importance` to find the on-time delivery rate for each category. The result will show whether high-importance products are prioritized and have a better on-time delivery record compared to low-importance ones."
      ],
      "metadata": {
        "id": "ORCs0uWenlsn"
      }
    },
    {
      "cell_type": "markdown",
      "source": [
        "## Question 3: How does the number of customer care calls correlate with the final customer rating?"
      ],
      "metadata": {
        "id": "9jmzIOC3oBmf"
      }
    },
    {
      "cell_type": "code",
      "source": [
        "rating_vs_calls = df.groupby('Customer_care_calls')['Customer_rating'].mean()\n",
        "print(rating_vs_calls)"
      ],
      "metadata": {
        "colab": {
          "base_uri": "https://localhost:8080/"
        },
        "id": "1G-nUNVbnrSX",
        "outputId": "861b8d2d-dc75-499b-f243-4730dc3b0fa3"
      },
      "execution_count": null,
      "outputs": [
        {
          "output_type": "stream",
          "name": "stdout",
          "text": [
            "Customer_care_calls\n",
            "2    3.017241\n",
            "3    2.959901\n",
            "4    2.998032\n",
            "5    2.972938\n",
            "6    3.083909\n",
            "7    2.995935\n",
            "Name: Customer_rating, dtype: float64\n"
          ]
        }
      ]
    },
    {
      "cell_type": "markdown",
      "source": [
        "It groups shipments by the number of `Customer_care_calls` made and computes the average Customer_rating for each group.\n",
        "\n",
        "There is no particular trend or correlation detected."
      ],
      "metadata": {
        "id": "cX55pg4VoXV4"
      }
    },
    {
      "cell_type": "markdown",
      "source": [
        "## Question 4: Are heavier products given higher discounts, possibly to offset shipping costs or incentivize purchase?"
      ],
      "metadata": {
        "id": "_v95tcokonhl"
      }
    },
    {
      "cell_type": "code",
      "source": [
        "correlation = df['Weight_in_gms'].corr(df['Discount_offered'])\n",
        "print(f\"Correlation between Weight and Discount: {correlation}\")"
      ],
      "metadata": {
        "colab": {
          "base_uri": "https://localhost:8080/"
        },
        "id": "ftOpNyHtoLrz",
        "outputId": "c20b78d7-6bec-418f-e3b1-454499159813"
      },
      "execution_count": null,
      "outputs": [
        {
          "output_type": "stream",
          "name": "stdout",
          "text": [
            "Correlation between Weight and Discount: -0.37606671513805257\n"
          ]
        }
      ]
    },
    {
      "cell_type": "markdown",
      "source": [
        "It computes the Pearson correlation coefficient between product `Weight_in_gms` and `Discount_offered`. The output is a single numerical value between -1 and 1."
      ],
      "metadata": {
        "id": "vRhUBQVzpZxN"
      }
    },
    {
      "cell_type": "markdown",
      "source": [
        "**`Moderate Negative Correlation` As the increase in weight happens a moderate decrease in discounts occur!**"
      ],
      "metadata": {
        "id": "_Ud0WycKpiMo"
      }
    },
    {
      "cell_type": "markdown",
      "source": [
        "## Question 5: Which warehouse block has the highest proportion of delayed shipments?"
      ],
      "metadata": {
        "id": "APZoIKhwpvK2"
      }
    },
    {
      "cell_type": "code",
      "source": [
        "late_shipment_rate = 1 - df.groupby('Warehouse_block')['Reached.on.Time_Y.N'].mean()\n",
        "print(late_shipment_rate.sort_values(ascending=False))"
      ],
      "metadata": {
        "colab": {
          "base_uri": "https://localhost:8080/"
        },
        "id": "ms7UkgU0pI7G",
        "outputId": "3a04a3d0-c840-4ef3-cdfe-fb8815bf9c18"
      },
      "execution_count": null,
      "outputs": [
        {
          "output_type": "stream",
          "name": "stdout",
          "text": [
            "Warehouse_block\n",
            "A    0.413530\n",
            "C    0.403164\n",
            "D    0.402399\n",
            "F    0.401528\n",
            "B    0.397709\n",
            "Name: Reached.on.Time_Y.N, dtype: float64\n"
          ]
        }
      ]
    },
    {
      "cell_type": "markdown",
      "source": [
        "The code determines the late delivery rate for each `Warehouse_block` ('A', 'B', 'C', 'D', 'F')."
      ],
      "metadata": {
        "id": "dEDQ1VqDp-uC"
      }
    },
    {
      "cell_type": "markdown",
      "source": [
        "Currently Warehouse 'A' has the highest proportions of the delayed shipments."
      ],
      "metadata": {
        "id": "5JVqjkVXqCBP"
      }
    },
    {
      "cell_type": "markdown",
      "source": [
        "## Question 6: Does offering a substantial discount (suppose >10%) correlate with a better on-time delivery rate?"
      ],
      "metadata": {
        "id": "Eqplgt7aqxZ6"
      }
    },
    {
      "cell_type": "code",
      "source": [
        "#Creating a binary column\n",
        "df['High_Discount'] = df['Discount_offered'] > 10\n",
        "\n",
        "discount_effect = df.groupby('High_Discount')['Reached.on.Time_Y.N'].mean()\n",
        "print(discount_effect)"
      ],
      "metadata": {
        "colab": {
          "base_uri": "https://localhost:8080/"
        },
        "id": "UL2ykBhnp4mc",
        "outputId": "1e575cba-814a-4aef-9c5f-3c09b44ea0e1"
      },
      "execution_count": null,
      "outputs": [
        {
          "output_type": "stream",
          "name": "stdout",
          "text": [
            "High_Discount\n",
            "False    0.46887\n",
            "True     1.00000\n",
            "Name: Reached.on.Time_Y.N, dtype: float64\n"
          ]
        }
      ]
    },
    {
      "cell_type": "markdown",
      "source": [
        "- For shipments with a discount of 10% or less, only about 46.9% arrived on time.\n",
        "\n",
        "- For shipments with a discount greater than 10%, 100% arrived on time."
      ],
      "metadata": {
        "id": "oD9rIcgSrsUi"
      }
    },
    {
      "cell_type": "markdown",
      "source": [
        "## Question 7: Are customers with a high number of prior purchases more likely to recieve their orders on time?"
      ],
      "metadata": {
        "id": "vIgjKd70rxBM"
      }
    },
    {
      "cell_type": "code",
      "source": [
        "loyalty_service_level = df.groupby('Prior_purchases')['Reached.on.Time_Y.N'].mean().sort_index()\n",
        "print(loyalty_service_level)"
      ],
      "metadata": {
        "colab": {
          "base_uri": "https://localhost:8080/"
        },
        "id": "RyixtLSAr6Iw",
        "outputId": "eb4f706c-21af-4fa3-9fb3-35d632c6168c"
      },
      "execution_count": null,
      "outputs": [
        {
          "output_type": "stream",
          "name": "stdout",
          "text": [
            "Prior_purchases\n",
            "2     0.625240\n",
            "3     0.640708\n",
            "4     0.543387\n",
            "5     0.498834\n",
            "6     0.559715\n",
            "7     0.676471\n",
            "8     0.648438\n",
            "10    0.573034\n",
            "Name: Reached.on.Time_Y.N, dtype: float64\n"
          ]
        }
      ]
    },
    {
      "cell_type": "markdown",
      "source": [
        "It investigates whether the company prioritizes customer loyalty. It groups the data by the `Prior_purchases` column and calculates the on-time delivery rate for each value. The output will reveal if the delivery success rate increases as the number of prior purchases goes up, indicating better service for loyal customers"
      ],
      "metadata": {
        "id": "RvvR5yyVsJ1T"
      }
    },
    {
      "cell_type": "markdown",
      "source": [
        "## Question 8: Are there significant differences in the average product cost and discounts recieved between male and female customers?"
      ],
      "metadata": {
        "id": "Kh7fDtWTsTLm"
      }
    },
    {
      "cell_type": "code",
      "source": [
        "gender_analysis = df.groupby('Gender').agg(\n",
        "    Average_Cost=('Cost_of_the_Product', 'mean'),\n",
        "    Average_Discount=('Discount_offered', 'mean')\n",
        ")\n",
        "print(gender_analysis)"
      ],
      "metadata": {
        "colab": {
          "base_uri": "https://localhost:8080/"
        },
        "id": "uOtnR07Ar_Cc",
        "outputId": "c175c1cf-1cc3-4bbd-f966-ea31e8f07ddc"
      },
      "execution_count": null,
      "outputs": [
        {
          "output_type": "stream",
          "name": "stdout",
          "text": [
            "        Average_Cost  Average_Discount\n",
            "Gender                                \n",
            "F         209.255005         13.562489\n",
            "M         211.154382         13.180785\n"
          ]
        }
      ]
    },
    {
      "cell_type": "markdown",
      "source": [
        "It provides a demographic breakdown of purchasing behavior. The .agg() function efficiently calculates both the average product cost and average discount for 'M' and 'F' `Gender` categories in a single table. It shows if any bias exists in gender basis dividend."
      ],
      "metadata": {
        "id": "oZKszxu-sriN"
      }
    },
    {
      "cell_type": "markdown",
      "source": [
        "## Question 9: How does on-time delivery performance across different product weight cateogories?"
      ],
      "metadata": {
        "id": "21JxI0IytMAb"
      }
    },
    {
      "cell_type": "code",
      "source": [
        "bins = [0, 2000, 5000, float('inf')]\n",
        "labels = ['Light (<2kg)', 'Medium (2-5kg)', 'Heavy (>5kg)']\n",
        "df['Weight_Category'] = pd.cut(df['Weight_in_gms'], bins=bins, labels=labels, right=False)\n",
        "\n",
        "weight_performance = df.groupby('Weight_Category')['Reached.on.Time_Y.N'].mean()\n",
        "print(weight_performance)"
      ],
      "metadata": {
        "colab": {
          "base_uri": "https://localhost:8080/"
        },
        "id": "CRidhVE4sd9m",
        "outputId": "60e2bd49-795d-45ea-fa73-1ff3dfa34984"
      },
      "execution_count": null,
      "outputs": [
        {
          "output_type": "stream",
          "name": "stdout",
          "text": [
            "Weight_Category\n",
            "Light (<2kg)      0.677877\n",
            "Medium (2-5kg)    0.643709\n",
            "Heavy (>5kg)      0.426745\n",
            "Name: Reached.on.Time_Y.N, dtype: float64\n"
          ]
        },
        {
          "output_type": "stream",
          "name": "stderr",
          "text": [
            "/tmp/ipython-input-2948963656.py:5: FutureWarning: The default of observed=False is deprecated and will be changed to True in a future version of pandas. Pass observed=False to retain current behavior or observed=True to adopt the future default and silence this warning.\n",
            "  weight_performance = df.groupby('Weight_Category')['Reached.on.Time_Y.N'].mean()\n"
          ]
        }
      ]
    },
    {
      "cell_type": "markdown",
      "source": [
        "This query segments products by weight to see if logistics are optimized differently for light versus heavy items. The `pd.cut` function creates distinct weight classes. The output will show the on-time delivery rate for each class, highlighting potential bottlenecks or efficiencies in handling products of different weights."
      ],
      "metadata": {
        "id": "cSVWZXfOuLIN"
      }
    },
    {
      "cell_type": "markdown",
      "source": [
        "There is a direct correlation between `Weight_Cateogry` and the `Reached.on.Time_Y.N`. As the weight increases, delays in the on-time delivery starts happening!"
      ],
      "metadata": {
        "id": "xVrdskV5uR0k"
      }
    },
    {
      "cell_type": "markdown",
      "source": [
        "## Question 10: Are the most expensive products prioritized for a on-time delievery compared to the least expansive ones?"
      ],
      "metadata": {
        "id": "OYwncVe8uoUi"
      }
    },
    {
      "cell_type": "code",
      "source": [
        "df['Cost_Quartile'] = pd.qcut(df['Cost_of_the_Product'], q=4, labels=['Q1_Lowest', 'Q2', 'Q3', 'Q4_Highest'])\n",
        "\n",
        "value_priority = df.groupby('Cost_Quartile')['Reached.on.Time_Y.N'].mean()\n",
        "print(value_priority)"
      ],
      "metadata": {
        "colab": {
          "base_uri": "https://localhost:8080/"
        },
        "id": "N2eZHCL_tbGt",
        "outputId": "b679f9d3-5836-42b8-a979-def4e2677dc1"
      },
      "execution_count": null,
      "outputs": [
        {
          "output_type": "stream",
          "name": "stdout",
          "text": [
            "Cost_Quartile\n",
            "Q1_Lowest     0.643402\n",
            "Q2            0.611534\n",
            "Q3            0.575465\n",
            "Q4_Highest    0.555844\n",
            "Name: Reached.on.Time_Y.N, dtype: float64\n"
          ]
        },
        {
          "output_type": "stream",
          "name": "stderr",
          "text": [
            "/tmp/ipython-input-1661242309.py:3: FutureWarning: The default of observed=False is deprecated and will be changed to True in a future version of pandas. Pass observed=False to retain current behavior or observed=True to adopt the future default and silence this warning.\n",
            "  value_priority = df.groupby('Cost_Quartile')['Reached.on.Time_Y.N'].mean()\n"
          ]
        }
      ]
    },
    {
      "cell_type": "markdown",
      "source": [
        "The `pd.qcut` function is used to create four robust cost brackets (quartiles). The result will compare the on-time delivery rates across these brackets, clearly showing if higher-value goods (Q4_Highest) receive preferential treatment in the supply chain."
      ],
      "metadata": {
        "id": "0igRu3ecxCoB"
      }
    },
    {
      "cell_type": "markdown",
      "source": [
        "The results show:\n",
        "- Lower-cost shipments (Q1_Lowest) have the highest on-time delivery rate (64.3%).\n",
        "\n",
        "- Highest-cost shipments (Q4_Highest) have the lowest on-time delivery rate (55.6%)"
      ],
      "metadata": {
        "id": "9kUR5ubxxHEQ"
      }
    },
    {
      "cell_type": "markdown",
      "source": [
        "**CONCLUSION: As the monetary value increases, the on-time delivery decreases!**"
      ],
      "metadata": {
        "id": "6CJ2ACK0xRRb"
      }
    }
  ]
}